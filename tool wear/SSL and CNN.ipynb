{
 "cells": [
  {
   "cell_type": "markdown",
   "id": "dbdb3e67-091d-4192-bf60-e17b04ec0a03",
   "metadata": {},
   "source": [
    "# SSL and CNN"
   ]
  },
  {
   "cell_type": "code",
   "execution_count": 1,
   "id": "1c8c984a-e868-409f-a257-c695553be217",
   "metadata": {},
   "outputs": [],
   "source": [
    "import pandas as pd\n",
    "import cv2\n",
    "import numpy as np\n",
    "from sklearn.model_selection import train_test_split\n",
    "from sklearn.preprocessing import LabelEncoder\n",
    "\n",
    "# Load CSV file\n",
    "file_path = r\"MATWI/labels.csv\"\n",
    "df = pd.read_csv(file_path)\n",
    "\n",
    "# Drop rows where 'type' or 'ImageFile' is NaN or empty\n",
    "df = df.dropna(subset=['type', 'ImageFile'])\n",
    "df = df[df['type'].str.strip() != '']  # Ensure no empty labels in 'type'\n",
    "\n"
   ]
  },
  {
   "cell_type": "code",
   "execution_count": 2,
   "id": "079ba886-32ec-45e3-b428-0bc48ede9b66",
   "metadata": {},
   "outputs": [
    {
     "data": {
      "text/plain": [
       "type\n",
       "flank_wear             1154\n",
       "flank_wear+adhesion     335\n",
       "adhesion                179\n",
       "Name: count, dtype: int64"
      ]
     },
     "execution_count": 2,
     "metadata": {},
     "output_type": "execute_result"
    }
   ],
   "source": [
    "def load_and_resize_image(image_path, size=(224, 224)):\n",
    "    img = cv2.imread(image_path)  # Load image in BGR format\n",
    "    img = cv2.cvtColor(img, cv2.COLOR_BGR2RGB)  # Convert to RGB\n",
    "    img = cv2.resize(img, size)  # Resize to target dimensions\n",
    "    return img\n",
    "\n",
    "# Load and preprocess images\n",
    "df['Images'] = df['ImageFile'].apply(lambda x: load_and_resize_image(x))\n",
    "images = np.stack(df['Images'].values) / 255.0  # Normalize to [0, 1]\n",
    "df['type'].value_counts()"
   ]
  },
  {
   "cell_type": "code",
   "execution_count": null,
   "id": "7c98a05a-9007-42b0-a194-1e54a95d30f8",
   "metadata": {},
   "outputs": [],
   "source": []
  },
  {
   "cell_type": "code",
   "execution_count": null,
   "id": "a84d50e1-bcc0-4e43-83d6-56d5b33962de",
   "metadata": {},
   "outputs": [],
   "source": []
  },
  {
   "cell_type": "code",
   "execution_count": null,
   "id": "8c61d903-d28a-4efe-980e-261d5d27a2e3",
   "metadata": {},
   "outputs": [],
   "source": []
  },
  {
   "cell_type": "code",
   "execution_count": null,
   "id": "9d0732d7-698d-4d4d-ab79-bdfbb13dd51b",
   "metadata": {},
   "outputs": [],
   "source": []
  },
  {
   "cell_type": "code",
   "execution_count": null,
   "id": "5e209068-1af3-43ef-9972-b644f98611df",
   "metadata": {},
   "outputs": [],
   "source": []
  },
  {
   "cell_type": "code",
   "execution_count": 9,
   "id": "96925d47-40b8-4bad-81d9-63021c3b9f20",
   "metadata": {},
   "outputs": [],
   "source": [
    "import tensorflow as tf\n",
    "from tensorflow.keras import layers\n",
    "# Perform stratified train-test split\n",
    "train_df, test_df = train_test_split(\n",
    "    df, test_size=0.3, random_state=42, stratify=df['type']\n",
    ")\n",
    "\n",
    "\n",
    "val_df, tst_df = train_test_split(test_df, test_size=0.5, random_state=42, stratify=test_df['type'])\n",
    "# Define data augmentation layers\n",
    "data_augmentation = tf.keras.Sequential([\n",
    "    layers.RandomFlip(\"horizontal_and_vertical\"),  # Random horizontal and vertical flips\n",
    "    layers.RandomRotation(0.2),  # Random rotation by up to 20%\n",
    "    layers.RandomZoom(0.2),  # Random zoom\n",
    "    layers.RandomContrast(0.1)  # Random contrast adjustment\n",
    "])\n",
    "# Function to apply data augmentation on a set of images\n",
    "def augment_images(images, num_augmented=6):\n",
    "    augmented_images = []\n",
    "    for img in images:\n",
    "        img = tf.image.convert_image_dtype(img, dtype=tf.float32)  # Ensure image dtype is float32\n",
    "        augmented_images.append(img)\n",
    "        for _ in range(num_augmented - 1):\n",
    "            augmented_img = data_augmentation(tf.expand_dims(img, axis=0))  # Apply augmentation\n",
    "            augmented_images.append(augmented_img[0].numpy())  # Remove batch dimension and add to list\n",
    "    return np.array(augmented_images)\n"
   ]
  },
  {
   "cell_type": "code",
   "execution_count": 16,
   "id": "ce4e9fb3-6fec-4135-8d7c-cb8341584b01",
   "metadata": {},
   "outputs": [
    {
     "name": "stdout",
     "output_type": "stream",
     "text": [
      "Class counts in training set:\n",
      "adhesion: 875\n",
      "flank_wear: 808\n",
      "flank_wear+adhesion: 1404\n",
      "\n",
      "Class counts in validation set:\n",
      "adhesion: 189\n",
      "flank_wear: 173\n",
      "flank_wear+adhesion: 300\n"
     ]
    }
   ],
   "source": [
    "import numpy as np\n",
    "\n",
    "# Separate the data for the three labels: adhesion, flank_wear, and flank_wear+adhesion\n",
    "adhesion_images = train_df[train_df['type'] == 'adhesion']['Images'].tolist()\n",
    "flank_wear_images = train_df[train_df['type'] == 'flank_wear']['Images'].tolist()\n",
    "flank_wear_adhesion_images = train_df[train_df['type'] == 'flank_wear+adhesion']['Images'].tolist()\n",
    "\n",
    "# Augment only 'adhesion' and 'flank_wear+adhesion' images\n",
    "adhesion_augmented = augment_images(np.array(adhesion_images), num_augmented=7)  # Augment by a factor of 10\n",
    "flank_wear_adhesion_augmented = augment_images(np.array(flank_wear_adhesion_images), num_augmented=6)  # Augment by a factor of 7\n",
    "\n",
    "# No augmentation for 'flank_wear' images\n",
    "flank_wear_augmented = np.array(flank_wear_images)\n",
    "\n",
    "# Combine all the augmented data and the original unaugmented data\n",
    "X_train_augmented = np.concatenate([adhesion_augmented, flank_wear_adhesion_augmented, flank_wear_augmented])\n",
    "\n",
    "# One-hot encode the corresponding labels for training\n",
    "adhesion_labels = np.array([[1, 0, 0]] * len(adhesion_augmented))  # [1, 0, 0] for 'adhesion'\n",
    "flank_wear_labels = np.array([[0, 1, 0]] * len(flank_wear_augmented))  # [0, 1, 0] for 'flank_wear'\n",
    "flank_wear_adhesion_labels = np.array([[0, 0, 1]] * len(flank_wear_adhesion_augmented))  # [0, 0, 1] for 'flank_wear+adhesion'\n",
    "\n",
    "y_train_augmented = np.concatenate([adhesion_labels, flank_wear_adhesion_labels, flank_wear_labels])\n",
    "\n",
    "# Perform augmentation on validation set as well\n",
    "adhesion_val_images = val_df[val_df['type'] == 'adhesion']['Images'].tolist()\n",
    "flank_wear_adhesion_val_images = val_df[val_df['type'] == 'flank_wear+adhesion']['Images'].tolist()\n",
    "\n",
    "# Augment only 'adhesion' and 'flank_wear+adhesion' validation images\n",
    "adhesion_val_augmented = augment_images(np.array(adhesion_val_images), num_augmented=7)\n",
    "flank_wear_adhesion_val_augmented = augment_images(np.array(flank_wear_adhesion_val_images), num_augmented=6)\n",
    "\n",
    "# No augmentation for 'flank_wear' validation images\n",
    "flank_wear_val_images = val_df[val_df['type'] == 'flank_wear']['Images'].tolist()\n",
    "flank_wear_val_augmented = np.array(flank_wear_val_images)\n",
    "\n",
    "# Combine the augmented validation data\n",
    "X_val_augmented = np.concatenate([adhesion_val_augmented, flank_wear_adhesion_val_augmented, flank_wear_val_augmented])\n",
    "\n",
    "# One-hot encode the corresponding labels for validation\n",
    "adhesion_val_labels = np.array([[1, 0, 0]] * len(adhesion_val_augmented))  # [1, 0, 0] for 'adhesion'\n",
    "flank_wear_adhesion_val_labels = np.array([[0, 0, 1]] * len(flank_wear_adhesion_val_augmented))  # [0, 0, 1] for 'flank_wear+adhesion'\n",
    "flank_wear_val_labels = np.array([[0, 1, 0]] * len(flank_wear_val_augmented))  # [0, 1, 0] for 'flank_wear'\n",
    "\n",
    "y_val_augmented = np.concatenate([adhesion_val_labels, flank_wear_adhesion_val_labels, flank_wear_val_labels])\n",
    "\n",
    "# Count the classes in the augmented data\n",
    "train_class_counts = np.sum(y_train_augmented, axis=0)\n",
    "val_class_counts = np.sum(y_val_augmented, axis=0)\n",
    "\n",
    "# Print the class counts for training and validation sets\n",
    "class_names = ['adhesion', 'flank_wear', 'flank_wear+adhesion']\n",
    "\n",
    "print(\"Class counts in training set:\")\n",
    "for i, class_name in enumerate(class_names):\n",
    "    print(f\"{class_name}: {train_class_counts[i]}\")\n",
    "\n",
    "print(\"\\nClass counts in validation set:\")\n",
    "for i, class_name in enumerate(class_names):\n",
    "    print(f\"{class_name}: {val_class_counts[i]}\")\n"
   ]
  },
  {
   "cell_type": "code",
   "execution_count": null,
   "id": "9cbe127f-0794-42b0-84d8-c9f72168909b",
   "metadata": {},
   "outputs": [],
   "source": []
  },
  {
   "cell_type": "code",
   "execution_count": null,
   "id": "34d3c0b8-3fa9-4470-b74b-16452cec16a7",
   "metadata": {},
   "outputs": [],
   "source": [
    "\n"
   ]
  },
  {
   "cell_type": "code",
   "execution_count": null,
   "id": "7a79b1dc-72d6-439e-8eb2-1a59930434e2",
   "metadata": {},
   "outputs": [],
   "source": []
  },
  {
   "cell_type": "code",
   "execution_count": 18,
   "id": "d872b8fe-d4c4-4769-92e8-34cf9ec3f7b4",
   "metadata": {},
   "outputs": [],
   "source": [
    "from tensorflow.keras.utils import to_categorical\n",
    "def create_rotation_dataset(images):\n",
    "    augmented_images = []\n",
    "    pseudo_labels = []\n",
    "    angles = [0, 90, 180, 270]\n",
    "    \n",
    "    for img in images:\n",
    "        for angle in angles:\n",
    "            if angle == 0:\n",
    "                rotated = img\n",
    "            else:\n",
    "                rotated = np.rot90(img, k=angle // 90)  # Rotate image\n",
    "            augmented_images.append(rotated)\n",
    "            pseudo_labels.append(angles.index(angle))\n",
    "    \n",
    "    return np.array(augmented_images), np.array(pseudo_labels)\n",
    "\n",
    "ssl_images, ssl_labels = create_rotation_dataset(X_train_augmented)\n",
    "ssl_labels_onehot = to_categorical(ssl_labels, num_classes=4)\n"
   ]
  },
  {
   "cell_type": "code",
   "execution_count": 19,
   "id": "3778af9e-472a-418e-bc0e-995d9f1af82a",
   "metadata": {},
   "outputs": [],
   "source": [
    "import tensorflow as tf\n",
    "from tensorflow.keras import layers, models\n",
    "\n",
    "def build_ssl_model(input_shape=(224, 224, 3)):\n",
    "    base_model = tf.keras.applications.ResNet50(\n",
    "        include_top=False, input_shape=input_shape, pooling='avg'\n",
    "    )\n",
    "    x = layers.Dense(128, activation='relu')(base_model.output)\n",
    "    output = layers.Dense(4, activation='softmax')(x)  # 4 rotation classes\n",
    "    model = tf.keras.Model(inputs=base_model.input, outputs=output)\n",
    "    return model\n",
    "\n",
    "ssl_model = build_ssl_model()\n",
    "ssl_model.compile(optimizer='adam', loss='categorical_crossentropy', metrics=['accuracy'])\n"
   ]
  },
  {
   "cell_type": "code",
   "execution_count": 22,
   "id": "b6be53c2-f0e1-4698-bf82-0fca91a37396",
   "metadata": {},
   "outputs": [
    {
     "name": "stdout",
     "output_type": "stream",
     "text": [
      "\u001b[1m386/386\u001b[0m \u001b[32m━━━━━━━━━━━━━━━━━━━━\u001b[0m\u001b[37m\u001b[0m \u001b[1m2353s\u001b[0m 6s/step - accuracy: 0.4033 - loss: 1.1932\n"
     ]
    },
    {
     "data": {
      "text/plain": [
       "<keras.src.callbacks.history.History at 0x2132b44ecc0>"
      ]
     },
     "execution_count": 22,
     "metadata": {},
     "output_type": "execute_result"
    }
   ],
   "source": [
    "ssl_model.fit(ssl_images, ssl_labels_onehot, epochs=1, batch_size=32)\n"
   ]
  },
  {
   "cell_type": "code",
   "execution_count": 26,
   "id": "ba4c8fbf-2b63-460d-b083-98c1a1601a93",
   "metadata": {},
   "outputs": [],
   "source": [
    "def build_classification_model(pretrained_model, num_classes):\n",
    "    x = layers.Dense(128, activation='relu')(pretrained_model.layers[-2].output)\n",
    "    output = layers.Dense(num_classes, activation='softmax')(x)\n",
    "    model = tf.keras.Model(inputs=pretrained_model.input, outputs=output)\n",
    "    return model\n",
    "\n",
    "#num_classes = len(df['type_encoded'].unique())\n",
    "classification_model = build_classification_model(ssl_model, 3)\n",
    "classification_model.compile(optimizer=tf.keras.optimizers.Adam(1e-4), \n",
    "                             loss='categorical_crossentropy', \n",
    "                             metrics=['accuracy'])\n"
   ]
  },
  {
   "cell_type": "code",
   "execution_count": 28,
   "id": "08cf5325-69fd-4937-8cce-36f9f36b4a45",
   "metadata": {},
   "outputs": [
    {
     "name": "stdout",
     "output_type": "stream",
     "text": [
      "\u001b[1m78/78\u001b[0m \u001b[32m━━━━━━━━━━━━━━━━━━━━\u001b[0m\u001b[37m\u001b[0m \u001b[1m2704s\u001b[0m 35s/step - accuracy: 0.4862 - loss: 1.0553 - val_accuracy: 1.0000 - val_loss: 0.3978\n"
     ]
    },
    {
     "data": {
      "text/plain": [
       "<keras.src.callbacks.history.History at 0x213e2abf0b0>"
      ]
     },
     "execution_count": 28,
     "metadata": {},
     "output_type": "execute_result"
    }
   ],
   "source": [
    "classification_model.fit(X_train_augmented, y_train_augmented, epochs=1, batch_size=32, validation_split=0.2)\n"
   ]
  },
  {
   "cell_type": "code",
   "execution_count": 24,
   "id": "7df21d92-91d2-417e-bd6b-abbc0596a729",
   "metadata": {},
   "outputs": [
    {
     "name": "stdout",
     "output_type": "stream",
     "text": [
      "\u001b[1m11/11\u001b[0m \u001b[32m━━━━━━━━━━━━━━━━━━━━\u001b[0m\u001b[37m\u001b[0m \u001b[1m12s\u001b[0m 1s/step - accuracy: 0.6902 - loss: 1.0699\n",
      "Test Accuracy: 69.16%\n"
     ]
    }
   ],
   "source": [
    "test_loss, test_accuracy = classification_model.evaluate(X_test, y_test)\n",
    "print(f\"Test Accuracy: {test_accuracy * 100:.2f}%\")\n"
   ]
  },
  {
   "cell_type": "code",
   "execution_count": 40,
   "id": "bdc62297-68b3-4c90-a6f4-8be6b54aba0f",
   "metadata": {},
   "outputs": [
    {
     "name": "stdout",
     "output_type": "stream",
     "text": [
      "\u001b[1m11/11\u001b[0m \u001b[32m━━━━━━━━━━━━━━━━━━━━\u001b[0m\u001b[37m\u001b[0m \u001b[1m13s\u001b[0m 1s/step\n"
     ]
    }
   ],
   "source": [
    "# Generate predicted probabilities\n",
    "y_pred_probabilities = classification_model.predict(X_test)\n",
    "\n",
    "# Convert probabilities to predicted class labels\n",
    "y_pred_labels = np.argmax(y_pred_probabilities, axis=1)\n",
    "\n",
    "# Convert one-hot encoded true labels to class labels\n",
    "y_true_labels = np.argmax(y_test, axis=1)\n"
   ]
  },
  {
   "cell_type": "code",
   "execution_count": 46,
   "id": "b5e1d4ea-2ade-4aa3-9d43-411b3d9b858b",
   "metadata": {},
   "outputs": [
    {
     "name": "stdout",
     "output_type": "stream",
     "text": [
      "(1, 0, 0): 286\n",
      "(0, 1, 0): 1846\n",
      "(0, 0, 1): 536\n"
     ]
    }
   ],
   "source": [
    "import numpy as np\n",
    "\n",
    "# Define your one-hot encoded vectors\n",
    "vector_1 = np.array([1, 0, 0])\n",
    "vector_2 = np.array([0, 1, 0])\n",
    "vector_3 = np.array([0, 0, 1])\n",
    "\n",
    "# Count occurrences of each vector\n",
    "count_1 = np.sum(np.all(y_train_augmented == vector_1, axis=1))\n",
    "count_2 = np.sum(np.all(y_train_augmented == vector_2, axis=1))\n",
    "count_3 = np.sum(np.all(y_train_augmented == vector_3, axis=1))\n",
    "\n",
    "print(f\"Flank: {count_1}\")\n",
    "print(f\"Adhesive: {count_2}\")\n",
    "print(f\"Flank+adhesive: {count_3}\")\n"
   ]
  },
  {
   "cell_type": "code",
   "execution_count": 48,
   "id": "d5e05ea3-a0cf-4460-9731-7bb67839c64f",
   "metadata": {},
   "outputs": [
    {
     "name": "stdout",
     "output_type": "stream",
     "text": [
      "\u001b[1m11/11\u001b[0m \u001b[32m━━━━━━━━━━━━━━━━━━━━\u001b[0m\u001b[37m\u001b[0m \u001b[1m12s\u001b[0m 1s/step - accuracy: 0.6902 - loss: 1.0699\n",
      "Test Accuracy: 69.16%\n",
      "\u001b[1m11/11\u001b[0m \u001b[32m━━━━━━━━━━━━━━━━━━━━\u001b[0m\u001b[37m\u001b[0m \u001b[1m12s\u001b[0m 1s/step\n"
     ]
    },
    {
     "data": {
      "image/png": "[encoded data removed]",
      "text/plain": [
       "<Figure size 600x600 with 2 Axes>"
      ]
     },
     "metadata": {},
     "output_type": "display_data"
    }
   ],
   "source": [
    "from sklearn.metrics import confusion_matrix, classification_report\n",
    "import seaborn as sns\n",
    "import matplotlib.pyplot as plt\n",
    "import numpy as np\n",
    "\n",
    "# Evaluate the model on the test set\n",
    "test_loss, test_accuracy = classification_model.evaluate(X_test, y_test)\n",
    "print(f\"Test Accuracy: {test_accuracy * 100:.2f}%\")\n",
    "\n",
    "# Predict the test set labels\n",
    "y_pred = classification_model.predict(X_test)\n",
    "\n",
    "# Convert predictions to class labels by taking the argmax (for multi-class classification)\n",
    "y_pred_labels = np.argmax(y_pred, axis=1)\n",
    "\n",
    "# Flatten the true labels to match the predicted labels shape\n",
    "y_test_labels = np.argmax(y_test, axis=1)\n",
    "\n",
    "# Confusion Matrix\n",
    "cm = confusion_matrix(y_test_labels, y_pred_labels)\n",
    "\n",
    "# Plot the confusion matrix\n",
    "plt.figure(figsize=(6, 6))\n",
    "sns.heatmap(cm, annot=True, fmt='d', cmap='Blues', xticklabels=['Flank Wear', 'Adhesion', \"Flank+Adhesion\"], yticklabels=['Flank Wear', 'Adhesion', \"Flank+Adhesion\"])\n",
    "plt.title('Confusion Matrix')\n",
    "plt.xlabel('Predicted')\n",
    "plt.ylabel('Actual')\n",
    "plt.tight_layout()\n",
    "plt.show()\n",
    "\n"
   ]
  },
  {
   "cell_type": "code",
   "execution_count": 34,
   "id": "8ed7fc5b-0b4c-4038-bb18-179e763554ab",
   "metadata": {},
   "outputs": [
    {
     "data": {
      "text/plain": [
       "array([[0.32311532, 0.35180044, 0.32508418],\n",
       "       [0.3231289 , 0.35178018, 0.3250909 ],\n",
       "       [0.32310686, 0.35181308, 0.32508004],\n",
       "       ...,\n",
       "       [0.32313332, 0.35177368, 0.32509303],\n",
       "       [0.323156  , 0.35173982, 0.32510415],\n",
       "       [0.32309142, 0.3518374 , 0.32507116]], dtype=float32)"
      ]
     },
     "execution_count": 34,
     "metadata": {},
     "output_type": "execute_result"
    }
   ],
   "source": [
    "y_pred"
   ]
  },
  {
   "cell_type": "code",
   "execution_count": 44,
   "id": "c84644c8-f73c-493b-9b2e-2672f42f6a5f",
   "metadata": {},
   "outputs": [
    {
     "data": {
      "text/plain": [
       "array([[0.32311532, 0.35180044, 0.32508418],\n",
       "       [0.3231289 , 0.35178018, 0.3250909 ],\n",
       "       [0.32310686, 0.35181308, 0.32508004],\n",
       "       ...,\n",
       "       [0.32313332, 0.35177368, 0.32509303],\n",
       "       [0.323156  , 0.35173982, 0.32510415],\n",
       "       [0.32309142, 0.3518374 , 0.32507116]], dtype=float32)"
      ]
     },
     "execution_count": 44,
     "metadata": {},
     "output_type": "execute_result"
    }
   ],
   "source": [
    "y_pred_probabilities"
   ]
  },
  {
   "cell_type": "code",
   "execution_count": 46,
   "id": "3f1d56f5-04d9-4b56-9a93-37b26f0957d4",
   "metadata": {},
   "outputs": [
    {
     "data": {
      "text/plain": [
       "array([1, 0, 1, 1, 2, 1, 1, 1, 1, 1, 1, 1, 1, 1, 1, 1, 1, 1, 0, 1, 0, 2,\n",
       "       1, 0, 1, 2, 1, 1, 1, 1, 1, 1, 2, 1, 0, 0, 1, 1, 1, 1, 1, 1, 1, 2,\n",
       "       0, 0, 1, 0, 2, 1, 1, 1, 2, 2, 1, 1, 2, 2, 1, 1, 1, 1, 2, 1, 2, 1,\n",
       "       1, 2, 2, 0, 1, 1, 2, 1, 0, 0, 1, 1, 1, 1, 0, 2, 1, 1, 1, 2, 1, 2,\n",
       "       2, 1, 2, 1, 0, 1, 1, 1, 2, 0, 1, 1, 1, 2, 1, 1, 2, 1, 1, 1, 0, 1,\n",
       "       1, 1, 1, 2, 1, 0, 1, 1, 1, 1, 2, 1, 2, 1, 1, 0, 1, 1, 1, 2, 1, 1,\n",
       "       1, 1, 1, 1, 1, 1, 1, 1, 0, 1, 1, 1, 1, 0, 1, 1, 1, 1, 1, 1, 2, 1,\n",
       "       1, 1, 2, 1, 1, 1, 2, 1, 1, 1, 2, 2, 1, 1, 1, 1, 2, 1, 2, 1, 0, 1,\n",
       "       1, 1, 1, 1, 0, 1, 1, 1, 2, 1, 1, 2, 1, 1, 2, 2, 2, 2, 2, 0, 1, 1,\n",
       "       1, 1, 1, 1, 2, 1, 2, 2, 1, 1, 0, 2, 1, 0, 2, 1, 1, 1, 1, 1, 1, 1,\n",
       "       1, 0, 1, 1, 1, 1, 1, 1, 1, 1, 2, 2, 1, 1, 1, 0, 1, 1, 1, 1, 1, 1,\n",
       "       1, 0, 2, 0, 1, 1, 1, 1, 1, 0, 1, 1, 2, 1, 1, 2, 1, 0, 1, 1, 1, 1,\n",
       "       2, 1, 2, 1, 1, 1, 1, 1, 1, 2, 2, 1, 1, 1, 1, 2, 2, 1, 1, 1, 1, 1,\n",
       "       1, 2, 2, 1, 0, 1, 0, 1, 1, 2, 1, 1, 1, 1, 1, 1, 1, 1, 1, 1, 1, 1,\n",
       "       1, 2, 1, 1, 0, 2, 1, 2, 2, 0, 1, 1, 1, 1, 0, 1, 1, 1, 1, 1, 1, 1,\n",
       "       2, 1, 2, 2], dtype=int64)"
      ]
     },
     "execution_count": 46,
     "metadata": {},
     "output_type": "execute_result"
    }
   ],
   "source": [
    "y_true_labels"
   ]
  },
  {
   "cell_type": "code",
   "execution_count": null,
   "id": "437547dc-c2e7-41ea-8465-79d4558f5681",
   "metadata": {},
   "outputs": [],
   "source": []
  },
  {
   "cell_type": "code",
   "execution_count": null,
   "id": "bd0d8042-04e4-43bb-9941-3a80e0321063",
   "metadata": {},
   "outputs": [],
   "source": []
  }
 ],
 "metadata": {
  "kernelspec": {
   "display_name": "Python 3 (ipykernel)",
   "language": "python",
   "name": "python3"
  },
  "language_info": {
   "codemirror_mode": {
    "name": "ipython",
    "version": 3
   },
   "file_extension": ".py",
   "mimetype": "text/x-python",
   "name": "python",
   "nbconvert_exporter": "python",
   "pygments_lexer": "ipython3",
   "version": "3.12.3"
  }
 },
 "nbformat": 4,
 "nbformat_minor": 5
}
