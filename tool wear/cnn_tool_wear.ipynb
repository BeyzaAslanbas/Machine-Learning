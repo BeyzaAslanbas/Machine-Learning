{
 "cells": [
  {
   "cell_type": "markdown",
   "id": "b429a839-bc7d-48f0-8648-3f73b52bce03",
   "metadata": {},
   "source": [
    "#### Image Extraction and Process"
   ]
  },
  {
   "cell_type": "code",
   "execution_count": 1,
   "id": "d9f659fd-e17f-4c2f-bf07-6197fa0ad141",
   "metadata": {},
   "outputs": [],
   "source": [
    "import pandas as pd\n",
    "import numpy as np\n",
    "import os\n",
    "import cv2\n",
    "from PIL import Image\n",
    "import matplotlib.pyplot as plt\n",
    "from tensorflow.keras import layers, models\n",
    "from sklearn.preprocessing import StandardScaler, LabelEncoder\n",
    "from sklearn.model_selection import train_test_split"
   ]
  },
  {
   "cell_type": "code",
   "execution_count": 2,
   "id": "457b940d-ac27-480e-af9f-e705265c948b",
   "metadata": {},
   "outputs": [
    {
     "name": "stdout",
     "output_type": "stream",
     "text": [
      "type\n",
      "flank_wear             1149\n",
      "flank_wear+adhesion     335\n",
      "adhesion                179\n",
      "Name: count, dtype: int64\n"
     ]
    },
    {
     "data": {
      "text/html": [
       "<div>\n",
       "<style scoped>\n",
       "    .dataframe tbody tr th:only-of-type {\n",
       "        vertical-align: middle;\n",
       "    }\n",
       "\n",
       "    .dataframe tbody tr th {\n",
       "        vertical-align: top;\n",
       "    }\n",
       "\n",
       "    .dataframe thead th {\n",
       "        text-align: right;\n",
       "    }\n",
       "</style>\n",
       "<table border=\"1\" class=\"dataframe\">\n",
       "  <thead>\n",
       "    <tr style=\"text-align: right;\">\n",
       "      <th></th>\n",
       "      <th>ImageName</th>\n",
       "      <th>SensorName</th>\n",
       "      <th>Set</th>\n",
       "      <th>ImageID</th>\n",
       "      <th>SensorID</th>\n",
       "      <th>wear</th>\n",
       "      <th>type</th>\n",
       "      <th>ImageDateTime</th>\n",
       "      <th>SensorDateTime</th>\n",
       "      <th>ImageFile</th>\n",
       "      <th>SensorFile</th>\n",
       "      <th>wear_category_encoded</th>\n",
       "    </tr>\n",
       "  </thead>\n",
       "  <tbody>\n",
       "    <tr>\n",
       "      <th>0</th>\n",
       "      <td>File_name_2022-09-09T13_42_21.698185.jpg</td>\n",
       "      <td>File_name_2022-09-09T13_30_37.534347.csv</td>\n",
       "      <td>1</td>\n",
       "      <td>0.0</td>\n",
       "      <td>0.0</td>\n",
       "      <td>30.0</td>\n",
       "      <td>flank_wear</td>\n",
       "      <td>2022-09-09 13:42:21.698</td>\n",
       "      <td>2022-09-09 13:30:37.534</td>\n",
       "      <td>MATWI/Set1/images/File_name_2022-09-09T13_42_2...</td>\n",
       "      <td>MATWI/Set1/sensordata/File_name_2022-09-09T13_...</td>\n",
       "      <td>1</td>\n",
       "    </tr>\n",
       "    <tr>\n",
       "      <th>1</th>\n",
       "      <td>File_name_2022-09-09T13_57_28.118460.jpg</td>\n",
       "      <td>File_name_2022-09-09T13_42_22.323924.csv</td>\n",
       "      <td>1</td>\n",
       "      <td>1.0</td>\n",
       "      <td>1.0</td>\n",
       "      <td>30.0</td>\n",
       "      <td>flank_wear</td>\n",
       "      <td>2022-09-09 13:57:28.118</td>\n",
       "      <td>2022-09-09 13:42:22.324</td>\n",
       "      <td>MATWI/Set1/images/File_name_2022-09-09T13_57_2...</td>\n",
       "      <td>MATWI/Set1/sensordata/File_name_2022-09-09T13_...</td>\n",
       "      <td>1</td>\n",
       "    </tr>\n",
       "  </tbody>\n",
       "</table>\n",
       "</div>"
      ],
      "text/plain": [
       "                                  ImageName  \\\n",
       "0  File_name_2022-09-09T13_42_21.698185.jpg   \n",
       "1  File_name_2022-09-09T13_57_28.118460.jpg   \n",
       "\n",
       "                                 SensorName  Set  ImageID  SensorID  wear  \\\n",
       "0  File_name_2022-09-09T13_30_37.534347.csv    1      0.0       0.0  30.0   \n",
       "1  File_name_2022-09-09T13_42_22.323924.csv    1      1.0       1.0  30.0   \n",
       "\n",
       "         type           ImageDateTime          SensorDateTime  \\\n",
       "0  flank_wear 2022-09-09 13:42:21.698 2022-09-09 13:30:37.534   \n",
       "1  flank_wear 2022-09-09 13:57:28.118 2022-09-09 13:42:22.324   \n",
       "\n",
       "                                           ImageFile  \\\n",
       "0  MATWI/Set1/images/File_name_2022-09-09T13_42_2...   \n",
       "1  MATWI/Set1/images/File_name_2022-09-09T13_57_2...   \n",
       "\n",
       "                                          SensorFile  wear_category_encoded  \n",
       "0  MATWI/Set1/sensordata/File_name_2022-09-09T13_...                      1  \n",
       "1  MATWI/Set1/sensordata/File_name_2022-09-09T13_...                      1  "
      ]
     },
     "execution_count": 2,
     "metadata": {},
     "output_type": "execute_result"
    }
   ],
   "source": [
    "# Load CSV file\n",
    "file_path = r\"MATWI/labels.xlsx\"\n",
    "df = pd.read_excel(file_path)\n",
    "\n",
    "# Drop rows where 'type' is NaN or empty\n",
    "df = df.dropna(subset=['type', 'wear', 'ImageFile'])  # Remove rows where 'type' is NaN\n",
    "df = df[df['type'].str.strip() != '']  # Remove rows where 'type' is an empty string or whitespace\n",
    "\n",
    "print(df['type'].value_counts())\n",
    "\n",
    "label_encoder = LabelEncoder()\n",
    "df['wear_category_encoded'] = label_encoder.fit_transform(df['type'])\n",
    "\n",
    "# Display the result\n",
    "df.head(2)"
   ]
  },
  {
   "cell_type": "code",
   "execution_count": 3,
   "id": "cf75e2f9",
   "metadata": {},
   "outputs": [],
   "source": [
    "df[\"Images\"] = df[\"ImageFile\"].apply(lambda x: cv2.resize(cv2.imread(x), (224, 224)))  # Load and resize images"
   ]
  },
  {
   "cell_type": "code",
   "execution_count": 4,
   "id": "c2fc4f82",
   "metadata": {},
   "outputs": [
    {
     "name": "stdout",
     "output_type": "stream",
     "text": [
      "type\n",
      "flank_wear             919\n",
      "flank_wear+adhesion    268\n",
      "adhesion               143\n",
      "Name: count, dtype: int64\n",
      "type\n",
      "flank_wear             230\n",
      "flank_wear+adhesion     67\n",
      "adhesion                36\n",
      "Name: count, dtype: int64\n",
      "type\n",
      "flank_wear             115\n",
      "flank_wear+adhesion     33\n",
      "adhesion                18\n",
      "Name: count, dtype: int64\n",
      "type\n",
      "flank_wear             115\n",
      "flank_wear+adhesion     34\n",
      "adhesion                18\n",
      "Name: count, dtype: int64\n"
     ]
    }
   ],
   "source": [
    "# Perform stratified train-test split\n",
    "train_df, test_df = train_test_split(\n",
    "    df, test_size=0.2, random_state=42, stratify=df['wear_category_encoded']\n",
    ")\n",
    "\n",
    "print(train_df['type'].value_counts())\n",
    "print(test_df['type'].value_counts())\n",
    "\n",
    "val_df, tst_df = train_test_split(test_df, test_size=0.5, random_state=42, stratify=test_df['wear_category_encoded'])\n",
    "\n",
    "print(val_df['type'].value_counts())\n",
    "print(tst_df['type'].value_counts())"
   ]
  },
  {
   "cell_type": "code",
   "execution_count": 5,
   "id": "13fa864a-8590-4720-9508-b72bb02325c2",
   "metadata": {},
   "outputs": [
    {
     "name": "stdout",
     "output_type": "stream",
     "text": [
      "[0 1 1 ... 2 2 2]\n"
     ]
    }
   ],
   "source": [
    "from tensorflow.keras.preprocessing.image import ImageDataGenerator\n",
    "import numpy as np\n",
    "\n",
    "# Define an augmentation generator\n",
    "datagen = ImageDataGenerator(\n",
    "    rotation_range=20,          # Rotate images randomly by 20 degrees# Randomly shift images horizontally by 20%# Randomly shift images vertically by 20%\n",
    "    shear_range=0.2,            # Shear transformation             # Random zoom\n",
    "    horizontal_flip=True,       # Randomly flip images horizontally\n",
    "    fill_mode='nearest'         # Fill missing pixels with the nearest pixel\n",
    ")\n",
    "\n",
    "# Augment images for underrepresented classes\n",
    "def augment_images(images, num_augmented):\n",
    "    augmented_images = []\n",
    "    for img in images:\n",
    "        img = img.reshape((1,) + img.shape)  # Reshape for ImageDataGenerator\n",
    "        i = 0\n",
    "        for batch in datagen.flow(img, batch_size=1):\n",
    "            augmented_images.append(batch[0])\n",
    "            i += 1\n",
    "            if i >= num_augmented:\n",
    "                break\n",
    "    return np.array(augmented_images)\n",
    "\n",
    "# Filter dataset for the underrepresented class (e.g., 'adhesion')\n",
    "adhesion_images = train_df[train_df['type'] == 'adhesion']['Images'].tolist()\n",
    "adhesion_augmented = augment_images(np.array(adhesion_images), num_augmented=5)  # Create 100 augmented samples\n",
    "\n",
    "# Repeat for other underrepresented classes\n",
    "built_up_images = train_df[train_df['type'] == 'flank_wear+adhesion']['Images'].tolist()\n",
    "built_up_augmented = augment_images(np.array(built_up_images), num_augmented=3)\n",
    "\n",
    "# Convert augmented images back to DataFrame format\n",
    "augmented_data = pd.DataFrame({\n",
    "    'Images': list(adhesion_augmented) + list(built_up_augmented),\n",
    "    'type': ['adhesion'] * len(adhesion_augmented) + ['flank_wear+adhesion'] * len(built_up_augmented),\n",
    "    'wear_category_encoded': label_encoder.transform(['adhesion'] * len(adhesion_augmented) + ['flank_wear+adhesion'] * len(built_up_augmented)),\n",
    "})\n",
    "\n",
    "# Append to the original DataFrame\n",
    "train_df = pd.concat([train_df, augmented_data], ignore_index=True)\n",
    "\n",
    "\n",
    "# Prepare images and labels from the DataFrame\n",
    "X_train = np.array(train_df['Images'].tolist()) / 255.0  # Normalize training images\n",
    "y_train = np.array(train_df['wear_category_encoded'])\n",
    "print(y_train)\n",
    "\n",
    "# For validation data\n",
    "X_val = np.array(val_df['Images'].tolist()) / 255.0  # Normalize validation images\n",
    "y_val = np.array(val_df['wear_category_encoded'])\n",
    "\n",
    "from tensorflow.keras.utils import to_categorical\n",
    "# One-hot encode the labels\n",
    "y_train = to_categorical(y_train, num_classes=3)  # 3 classes\n",
    "y_val = to_categorical(y_val, num_classes=3)\n"
   ]
  },
  {
   "cell_type": "code",
   "execution_count": 6,
   "id": "0a72b9eb",
   "metadata": {},
   "outputs": [
    {
     "name": "stdout",
     "output_type": "stream",
     "text": [
      "2849\n"
     ]
    }
   ],
   "source": [
    "print(len(y_train))"
   ]
  },
  {
   "cell_type": "code",
   "execution_count": 7,
   "id": "523b1dfb",
   "metadata": {},
   "outputs": [
    {
     "name": "stdout",
     "output_type": "stream",
     "text": [
      "858\n",
      "919\n",
      "1072\n"
     ]
    }
   ],
   "source": [
    "element_1 = 0\n",
    "element_2 = 0\n",
    "element_3 = 0\n",
    "for element in y_train:\n",
    "    if element[0] == 1:\n",
    "        element_1 += 1\n",
    "    elif element[1] == 1:\n",
    "        element_2 += 1\n",
    "    elif element[2] == 1:\n",
    "        element_3 += 1\n",
    "\n",
    "print(element_1)\n",
    "print(element_2)\n",
    "print(element_3)"
   ]
  },
  {
   "cell_type": "code",
   "execution_count": 8,
   "id": "163ee351",
   "metadata": {},
   "outputs": [
    {
     "name": "stdout",
     "output_type": "stream",
     "text": [
      "     ImageName SensorName  Set  ImageID  SensorID  wear                 type  \\\n",
      "2844       NaN        NaN  NaN      NaN       NaN   NaN  flank_wear+adhesion   \n",
      "2845       NaN        NaN  NaN      NaN       NaN   NaN  flank_wear+adhesion   \n",
      "2846       NaN        NaN  NaN      NaN       NaN   NaN  flank_wear+adhesion   \n",
      "2847       NaN        NaN  NaN      NaN       NaN   NaN  flank_wear+adhesion   \n",
      "2848       NaN        NaN  NaN      NaN       NaN   NaN  flank_wear+adhesion   \n",
      "\n",
      "     ImageDateTime SensorDateTime ImageFile SensorFile  wear_category_encoded  \\\n",
      "2844           NaT            NaT       NaN        NaN                      2   \n",
      "2845           NaT            NaT       NaN        NaN                      2   \n",
      "2846           NaT            NaT       NaN        NaN                      2   \n",
      "2847           NaT            NaT       NaN        NaN                      2   \n",
      "2848           NaT            NaT       NaN        NaN                      2   \n",
      "\n",
      "                                                 Images  \n",
      "2844  [[[186.63329, 141.36671, 146.1777], [186.3376,...  \n",
      "2845  [[[15.86052, 10.86052, 11.86052], [15.592004, ...  \n",
      "2846  [[[18.994171, 13.994171, 13.662781], [19.30768...  \n",
      "2847  [[[172.0502, 131.63013, 127.0502], [177.2079, ...  \n",
      "2848  [[[165.4996, 128.00157, 127.50118], [166.47607...  \n"
     ]
    }
   ],
   "source": [
    "print(train_df.tail(5))"
   ]
  },
  {
   "cell_type": "code",
   "execution_count": 9,
   "id": "cfa108c4",
   "metadata": {},
   "outputs": [
    {
     "data": {
      "text/plain": [
       "'\\ntraining_data.to_csv(\"training_data.csv\", index=False)\\nvalidation_data.to_csv(\"validation_data.csv\", index=False)\\ntesting_data.to_csv(\"testing_data.csv\", index=False)\\n'"
      ]
     },
     "execution_count": 9,
     "metadata": {},
     "output_type": "execute_result"
    }
   ],
   "source": [
    "# Save the data\n",
    "\n",
    "\"\"\"\n",
    "training_data.to_csv(\"training_data.csv\", index=False)\n",
    "validation_data.to_csv(\"validation_data.csv\", index=False)\n",
    "testing_data.to_csv(\"testing_data.csv\", index=False)\n",
    "\"\"\""
   ]
  },
  {
   "cell_type": "code",
   "execution_count": 10,
   "id": "d0067917",
   "metadata": {},
   "outputs": [
    {
     "name": "stdout",
     "output_type": "stream",
     "text": [
      "\u001b[1m90/90\u001b[0m \u001b[32m━━━━━━━━━━━━━━━━━━━━\u001b[0m\u001b[37m\u001b[0m \u001b[1m66s\u001b[0m 726ms/step\n",
      "\u001b[1m6/6\u001b[0m \u001b[32m━━━━━━━━━━━━━━━━━━━━\u001b[0m\u001b[37m\u001b[0m \u001b[1m4s\u001b[0m 575ms/step\n"
     ]
    }
   ],
   "source": [
    "from tensorflow.keras.applications import ResNet50\n",
    "from tensorflow.keras.models import Model\n",
    "\n",
    "# Load ResNet50 pre-trained on ImageNet\n",
    "resnet = ResNet50(weights='imagenet', include_top=False, input_shape=(224, 224, 3))\n",
    "\n",
    "# Create a feature extractor model\n",
    "feature_extractor = Model(inputs=resnet.input, outputs=resnet.output)\n",
    "\n",
    "\n",
    "# Extract features from ResNet for training data\n",
    "train_features = feature_extractor.predict(X_train, verbose=1)\n",
    "\n",
    "val_features = feature_extractor.predict(X_val, verbose=1)\n",
    "\n",
    "# Flatten the feature maps\n",
    "train_features = train_features.reshape(train_features.shape[0], -1)\n",
    "val_features = val_features.reshape(val_features.shape[0], -1)"
   ]
  },
  {
   "cell_type": "code",
   "execution_count": 11,
   "id": "06bf76cf",
   "metadata": {},
   "outputs": [
    {
     "name": "stdout",
     "output_type": "stream",
     "text": [
      "(2849, 224, 224, 3)\n"
     ]
    }
   ],
   "source": [
    "print(X_train.shape)"
   ]
  },
  {
   "cell_type": "code",
   "execution_count": 12,
   "id": "2e8963cd-8469-45ca-919a-edc217fd2e34",
   "metadata": {},
   "outputs": [
    {
     "name": "stderr",
     "output_type": "stream",
     "text": [
      "/opt/anaconda3/envs/cs512/lib/python3.12/site-packages/keras/src/layers/convolutional/base_conv.py:107: UserWarning: Do not pass an `input_shape`/`input_dim` argument to a layer. When using Sequential models, prefer using an `Input(shape)` object as the first layer in the model instead.\n",
      "  super().__init__(activity_regularizer=activity_regularizer, **kwargs)\n"
     ]
    },
    {
     "data": {
      "text/html": [
       "<pre style=\"white-space:pre;overflow-x:auto;line-height:normal;font-family:Menlo,'DejaVu Sans Mono',consolas,'Courier New',monospace\"><span style=\"font-weight: bold\">Model: \"sequential\"</span>\n",
       "</pre>\n"
      ],
      "text/plain": [
       "\u001b[1mModel: \"sequential\"\u001b[0m\n"
      ]
     },
     "metadata": {},
     "output_type": "display_data"
    },
    {
     "data": {
      "text/html": [
       "<pre style=\"white-space:pre;overflow-x:auto;line-height:normal;font-family:Menlo,'DejaVu Sans Mono',consolas,'Courier New',monospace\">┏━━━━━━━━━━━━━━━━━━━━━━━━━━━━━━━━━┳━━━━━━━━━━━━━━━━━━━━━━━━┳━━━━━━━━━━━━━━━┓\n",
       "┃<span style=\"font-weight: bold\"> Layer (type)                    </span>┃<span style=\"font-weight: bold\"> Output Shape           </span>┃<span style=\"font-weight: bold\">       Param # </span>┃\n",
       "┡━━━━━━━━━━━━━━━━━━━━━━━━━━━━━━━━━╇━━━━━━━━━━━━━━━━━━━━━━━━╇━━━━━━━━━━━━━━━┩\n",
       "│ conv2d (<span style=\"color: #0087ff; text-decoration-color: #0087ff\">Conv2D</span>)                 │ (<span style=\"color: #00d7ff; text-decoration-color: #00d7ff\">None</span>, <span style=\"color: #00af00; text-decoration-color: #00af00\">222</span>, <span style=\"color: #00af00; text-decoration-color: #00af00\">222</span>, <span style=\"color: #00af00; text-decoration-color: #00af00\">32</span>)   │           <span style=\"color: #00af00; text-decoration-color: #00af00\">896</span> │\n",
       "├─────────────────────────────────┼────────────────────────┼───────────────┤\n",
       "│ max_pooling2d (<span style=\"color: #0087ff; text-decoration-color: #0087ff\">MaxPooling2D</span>)    │ (<span style=\"color: #00d7ff; text-decoration-color: #00d7ff\">None</span>, <span style=\"color: #00af00; text-decoration-color: #00af00\">111</span>, <span style=\"color: #00af00; text-decoration-color: #00af00\">111</span>, <span style=\"color: #00af00; text-decoration-color: #00af00\">32</span>)   │             <span style=\"color: #00af00; text-decoration-color: #00af00\">0</span> │\n",
       "├─────────────────────────────────┼────────────────────────┼───────────────┤\n",
       "│ conv2d_1 (<span style=\"color: #0087ff; text-decoration-color: #0087ff\">Conv2D</span>)               │ (<span style=\"color: #00d7ff; text-decoration-color: #00d7ff\">None</span>, <span style=\"color: #00af00; text-decoration-color: #00af00\">109</span>, <span style=\"color: #00af00; text-decoration-color: #00af00\">109</span>, <span style=\"color: #00af00; text-decoration-color: #00af00\">64</span>)   │        <span style=\"color: #00af00; text-decoration-color: #00af00\">18,496</span> │\n",
       "├─────────────────────────────────┼────────────────────────┼───────────────┤\n",
       "│ max_pooling2d_1 (<span style=\"color: #0087ff; text-decoration-color: #0087ff\">MaxPooling2D</span>)  │ (<span style=\"color: #00d7ff; text-decoration-color: #00d7ff\">None</span>, <span style=\"color: #00af00; text-decoration-color: #00af00\">54</span>, <span style=\"color: #00af00; text-decoration-color: #00af00\">54</span>, <span style=\"color: #00af00; text-decoration-color: #00af00\">64</span>)     │             <span style=\"color: #00af00; text-decoration-color: #00af00\">0</span> │\n",
       "├─────────────────────────────────┼────────────────────────┼───────────────┤\n",
       "│ conv2d_2 (<span style=\"color: #0087ff; text-decoration-color: #0087ff\">Conv2D</span>)               │ (<span style=\"color: #00d7ff; text-decoration-color: #00d7ff\">None</span>, <span style=\"color: #00af00; text-decoration-color: #00af00\">52</span>, <span style=\"color: #00af00; text-decoration-color: #00af00\">52</span>, <span style=\"color: #00af00; text-decoration-color: #00af00\">128</span>)    │        <span style=\"color: #00af00; text-decoration-color: #00af00\">73,856</span> │\n",
       "├─────────────────────────────────┼────────────────────────┼───────────────┤\n",
       "│ max_pooling2d_2 (<span style=\"color: #0087ff; text-decoration-color: #0087ff\">MaxPooling2D</span>)  │ (<span style=\"color: #00d7ff; text-decoration-color: #00d7ff\">None</span>, <span style=\"color: #00af00; text-decoration-color: #00af00\">26</span>, <span style=\"color: #00af00; text-decoration-color: #00af00\">26</span>, <span style=\"color: #00af00; text-decoration-color: #00af00\">128</span>)    │             <span style=\"color: #00af00; text-decoration-color: #00af00\">0</span> │\n",
       "├─────────────────────────────────┼────────────────────────┼───────────────┤\n",
       "│ flatten (<span style=\"color: #0087ff; text-decoration-color: #0087ff\">Flatten</span>)               │ (<span style=\"color: #00d7ff; text-decoration-color: #00d7ff\">None</span>, <span style=\"color: #00af00; text-decoration-color: #00af00\">86528</span>)          │             <span style=\"color: #00af00; text-decoration-color: #00af00\">0</span> │\n",
       "├─────────────────────────────────┼────────────────────────┼───────────────┤\n",
       "│ dense (<span style=\"color: #0087ff; text-decoration-color: #0087ff\">Dense</span>)                   │ (<span style=\"color: #00d7ff; text-decoration-color: #00d7ff\">None</span>, <span style=\"color: #00af00; text-decoration-color: #00af00\">128</span>)            │    <span style=\"color: #00af00; text-decoration-color: #00af00\">11,075,712</span> │\n",
       "├─────────────────────────────────┼────────────────────────┼───────────────┤\n",
       "│ dense_1 (<span style=\"color: #0087ff; text-decoration-color: #0087ff\">Dense</span>)                 │ (<span style=\"color: #00d7ff; text-decoration-color: #00d7ff\">None</span>, <span style=\"color: #00af00; text-decoration-color: #00af00\">64</span>)             │         <span style=\"color: #00af00; text-decoration-color: #00af00\">8,256</span> │\n",
       "├─────────────────────────────────┼────────────────────────┼───────────────┤\n",
       "│ dense_2 (<span style=\"color: #0087ff; text-decoration-color: #0087ff\">Dense</span>)                 │ (<span style=\"color: #00d7ff; text-decoration-color: #00d7ff\">None</span>, <span style=\"color: #00af00; text-decoration-color: #00af00\">3</span>)              │           <span style=\"color: #00af00; text-decoration-color: #00af00\">195</span> │\n",
       "└─────────────────────────────────┴────────────────────────┴───────────────┘\n",
       "</pre>\n"
      ],
      "text/plain": [
       "┏━━━━━━━━━━━━━━━━━━━━━━━━━━━━━━━━━┳━━━━━━━━━━━━━━━━━━━━━━━━┳━━━━━━━━━━━━━━━┓\n",
       "┃\u001b[1m \u001b[0m\u001b[1mLayer (type)                   \u001b[0m\u001b[1m \u001b[0m┃\u001b[1m \u001b[0m\u001b[1mOutput Shape          \u001b[0m\u001b[1m \u001b[0m┃\u001b[1m \u001b[0m\u001b[1m      Param #\u001b[0m\u001b[1m \u001b[0m┃\n",
       "┡━━━━━━━━━━━━━━━━━━━━━━━━━━━━━━━━━╇━━━━━━━━━━━━━━━━━━━━━━━━╇━━━━━━━━━━━━━━━┩\n",
       "│ conv2d (\u001b[38;5;33mConv2D\u001b[0m)                 │ (\u001b[38;5;45mNone\u001b[0m, \u001b[38;5;34m222\u001b[0m, \u001b[38;5;34m222\u001b[0m, \u001b[38;5;34m32\u001b[0m)   │           \u001b[38;5;34m896\u001b[0m │\n",
       "├─────────────────────────────────┼────────────────────────┼───────────────┤\n",
       "│ max_pooling2d (\u001b[38;5;33mMaxPooling2D\u001b[0m)    │ (\u001b[38;5;45mNone\u001b[0m, \u001b[38;5;34m111\u001b[0m, \u001b[38;5;34m111\u001b[0m, \u001b[38;5;34m32\u001b[0m)   │             \u001b[38;5;34m0\u001b[0m │\n",
       "├─────────────────────────────────┼────────────────────────┼───────────────┤\n",
       "│ conv2d_1 (\u001b[38;5;33mConv2D\u001b[0m)               │ (\u001b[38;5;45mNone\u001b[0m, \u001b[38;5;34m109\u001b[0m, \u001b[38;5;34m109\u001b[0m, \u001b[38;5;34m64\u001b[0m)   │        \u001b[38;5;34m18,496\u001b[0m │\n",
       "├─────────────────────────────────┼────────────────────────┼───────────────┤\n",
       "│ max_pooling2d_1 (\u001b[38;5;33mMaxPooling2D\u001b[0m)  │ (\u001b[38;5;45mNone\u001b[0m, \u001b[38;5;34m54\u001b[0m, \u001b[38;5;34m54\u001b[0m, \u001b[38;5;34m64\u001b[0m)     │             \u001b[38;5;34m0\u001b[0m │\n",
       "├─────────────────────────────────┼────────────────────────┼───────────────┤\n",
       "│ conv2d_2 (\u001b[38;5;33mConv2D\u001b[0m)               │ (\u001b[38;5;45mNone\u001b[0m, \u001b[38;5;34m52\u001b[0m, \u001b[38;5;34m52\u001b[0m, \u001b[38;5;34m128\u001b[0m)    │        \u001b[38;5;34m73,856\u001b[0m │\n",
       "├─────────────────────────────────┼────────────────────────┼───────────────┤\n",
       "│ max_pooling2d_2 (\u001b[38;5;33mMaxPooling2D\u001b[0m)  │ (\u001b[38;5;45mNone\u001b[0m, \u001b[38;5;34m26\u001b[0m, \u001b[38;5;34m26\u001b[0m, \u001b[38;5;34m128\u001b[0m)    │             \u001b[38;5;34m0\u001b[0m │\n",
       "├─────────────────────────────────┼────────────────────────┼───────────────┤\n",
       "│ flatten (\u001b[38;5;33mFlatten\u001b[0m)               │ (\u001b[38;5;45mNone\u001b[0m, \u001b[38;5;34m86528\u001b[0m)          │             \u001b[38;5;34m0\u001b[0m │\n",
       "├─────────────────────────────────┼────────────────────────┼───────────────┤\n",
       "│ dense (\u001b[38;5;33mDense\u001b[0m)                   │ (\u001b[38;5;45mNone\u001b[0m, \u001b[38;5;34m128\u001b[0m)            │    \u001b[38;5;34m11,075,712\u001b[0m │\n",
       "├─────────────────────────────────┼────────────────────────┼───────────────┤\n",
       "│ dense_1 (\u001b[38;5;33mDense\u001b[0m)                 │ (\u001b[38;5;45mNone\u001b[0m, \u001b[38;5;34m64\u001b[0m)             │         \u001b[38;5;34m8,256\u001b[0m │\n",
       "├─────────────────────────────────┼────────────────────────┼───────────────┤\n",
       "│ dense_2 (\u001b[38;5;33mDense\u001b[0m)                 │ (\u001b[38;5;45mNone\u001b[0m, \u001b[38;5;34m3\u001b[0m)              │           \u001b[38;5;34m195\u001b[0m │\n",
       "└─────────────────────────────────┴────────────────────────┴───────────────┘\n"
      ]
     },
     "metadata": {},
     "output_type": "display_data"
    },
    {
     "data": {
      "text/html": [
       "<pre style=\"white-space:pre;overflow-x:auto;line-height:normal;font-family:Menlo,'DejaVu Sans Mono',consolas,'Courier New',monospace\"><span style=\"font-weight: bold\"> Total params: </span><span style=\"color: #00af00; text-decoration-color: #00af00\">11,177,411</span> (42.64 MB)\n",
       "</pre>\n"
      ],
      "text/plain": [
       "\u001b[1m Total params: \u001b[0m\u001b[38;5;34m11,177,411\u001b[0m (42.64 MB)\n"
      ]
     },
     "metadata": {},
     "output_type": "display_data"
    },
    {
     "data": {
      "text/html": [
       "<pre style=\"white-space:pre;overflow-x:auto;line-height:normal;font-family:Menlo,'DejaVu Sans Mono',consolas,'Courier New',monospace\"><span style=\"font-weight: bold\"> Trainable params: </span><span style=\"color: #00af00; text-decoration-color: #00af00\">11,177,411</span> (42.64 MB)\n",
       "</pre>\n"
      ],
      "text/plain": [
       "\u001b[1m Trainable params: \u001b[0m\u001b[38;5;34m11,177,411\u001b[0m (42.64 MB)\n"
      ]
     },
     "metadata": {},
     "output_type": "display_data"
    },
    {
     "data": {
      "text/html": [
       "<pre style=\"white-space:pre;overflow-x:auto;line-height:normal;font-family:Menlo,'DejaVu Sans Mono',consolas,'Courier New',monospace\"><span style=\"font-weight: bold\"> Non-trainable params: </span><span style=\"color: #00af00; text-decoration-color: #00af00\">0</span> (0.00 B)\n",
       "</pre>\n"
      ],
      "text/plain": [
       "\u001b[1m Non-trainable params: \u001b[0m\u001b[38;5;34m0\u001b[0m (0.00 B)\n"
      ]
     },
     "metadata": {},
     "output_type": "display_data"
    }
   ],
   "source": [
    "from tensorflow.keras import layers, models\n",
    "\n",
    "# Define the CNN model\n",
    "model = models.Sequential()\n",
    "\n",
    "# Add convolutional layers with ReLU activation and max pooling\n",
    "model.add(layers.Conv2D(32, (3, 3), activation='relu', input_shape=(X_train.shape[1], X_train.shape[2], X_train.shape[3])))  # Input shape: (height, width, channels)\n",
    "model.add(layers.MaxPooling2D((2, 2)))\n",
    "\n",
    "model.add(layers.Conv2D(64, (3, 3), activation='relu'))\n",
    "model.add(layers.MaxPooling2D((2, 2)))\n",
    "\n",
    "model.add(layers.Conv2D(128, (3, 3), activation='relu'))\n",
    "model.add(layers.MaxPooling2D((2, 2)))\n",
    "\n",
    "# Flatten the output from the convolutional layers\n",
    "model.add(layers.Flatten())\n",
    "\n",
    "# Add fully connected (dense) layers\n",
    "model.add(layers.Dense(128, activation='relu'))\n",
    "model.add(layers.Dense(64, activation='relu'))\n",
    "\n",
    "# Output layer with softmax activation (for multi-class classification)\n",
    "model.add(layers.Dense(3, activation='softmax'))  # Assuming 2 classes for each label (flank_wear, adhesion)\n",
    "\n",
    "# Summary of the model\n",
    "model.summary()\n"
   ]
  },
  {
   "cell_type": "code",
   "execution_count": 13,
   "id": "8a6451d1-5d30-4940-aa3f-19292be5050f",
   "metadata": {},
   "outputs": [],
   "source": [
    "# Compile the model\n",
    "model.compile(optimizer='adam',\n",
    "              loss='categorical_crossentropy',  # Use categorical crossentropy for multi-class classification\n",
    "              metrics=['accuracy'])\n"
   ]
  },
  {
   "cell_type": "code",
   "execution_count": 14,
   "id": "227ea997-fc5a-4846-9e4b-262c1ca3d476",
   "metadata": {},
   "outputs": [
    {
     "name": "stdout",
     "output_type": "stream",
     "text": [
      "Epoch 1/3\n",
      "\u001b[1m90/90\u001b[0m \u001b[32m━━━━━━━━━━━━━━━━━━━━\u001b[0m\u001b[37m\u001b[0m \u001b[1m37s\u001b[0m 399ms/step - accuracy: 0.5884 - loss: 0.8504 - val_accuracy: 0.8494 - val_loss: 0.4248\n",
      "Epoch 2/3\n",
      "\u001b[1m90/90\u001b[0m \u001b[32m━━━━━━━━━━━━━━━━━━━━\u001b[0m\u001b[37m\u001b[0m \u001b[1m35s\u001b[0m 392ms/step - accuracy: 0.9065 - loss: 0.2683 - val_accuracy: 0.8434 - val_loss: 0.4383\n",
      "Epoch 3/3\n",
      "\u001b[1m90/90\u001b[0m \u001b[32m━━━━━━━━━━━━━━━━━━━━\u001b[0m\u001b[37m\u001b[0m \u001b[1m35s\u001b[0m 389ms/step - accuracy: 0.9295 - loss: 0.2060 - val_accuracy: 0.8675 - val_loss: 0.3853\n"
     ]
    }
   ],
   "source": [
    "# Train the model\n",
    "history = model.fit(\n",
    "    X_train, y_train,              # Training data\n",
    "    epochs=3,                    # Number of epochs, adjust based on your need\n",
    "    batch_size=32,                # Batch size, adjust based on memory and data\n",
    "    validation_data=(X_val, y_val), # Validation data\n",
    "    verbose=1                     # To show progress during training\n",
    ")\n"
   ]
  },
  {
   "cell_type": "code",
   "execution_count": 15,
   "id": "02b9c114",
   "metadata": {},
   "outputs": [],
   "source": [
    "X_test = np.array(tst_df['Images'].tolist()) / 255.0  # Normalize testing images\n",
    "y_test = np.array(tst_df['wear_category_encoded'])"
   ]
  },
  {
   "cell_type": "code",
   "execution_count": 16,
   "id": "b49f4da1-51f6-40e2-b83b-d2bce1ba128c",
   "metadata": {},
   "outputs": [
    {
     "name": "stdout",
     "output_type": "stream",
     "text": [
      "\u001b[1m6/6\u001b[0m \u001b[32m━━━━━━━━━━━━━━━━━━━━\u001b[0m\u001b[37m\u001b[0m \u001b[1m1s\u001b[0m 94ms/step \n",
      "Test Accuracy: 0.88\n",
      "\n",
      "Classification Report:\n",
      "                     precision    recall  f1-score   support\n",
      "\n",
      "           adhesion       1.00      0.17      0.29        18\n",
      "         flank_wear       0.88      0.96      0.92       115\n",
      "flank_wear+adhesion       0.87      1.00      0.93        34\n",
      "\n",
      "           accuracy                           0.88       167\n",
      "          macro avg       0.92      0.71      0.71       167\n",
      "       weighted avg       0.89      0.88      0.85       167\n",
      "\n"
     ]
    },
    {
     "data": {
      "image/png": "[encoded data removed]",
      "text/plain": [
       "<Figure size 600x600 with 1 Axes>"
      ]
     },
     "metadata": {},
     "output_type": "display_data"
    }
   ],
   "source": [
    "from sklearn.metrics import accuracy_score, classification_report, confusion_matrix\n",
    "import numpy as np\n",
    "from mlxtend.plotting import plot_confusion_matrix\n",
    "import matplotlib.pyplot as plt\n",
    "\n",
    "# Predict class probabilities on the test set\n",
    "y_pred_prob = model.predict(X_test)\n",
    "\n",
    "# Convert probabilities to class predictions\n",
    "y_pred = np.argmax(y_pred_prob, axis=1)\n",
    "\n",
    "# Ground truth (ensure y_test is in integer form)\n",
    "#y_test = np.argmax(y_test, axis=1)  # If y_test is one-hot encoded\n",
    "\n",
    "# Print accuracy\n",
    "accuracy = accuracy_score(y_test, y_pred)\n",
    "print(f\"Test Accuracy: {accuracy:.2f}\")\n",
    "\n",
    "# Print classification report\n",
    "print(\"\\nClassification Report:\")\n",
    "print(classification_report(y_test, y_pred, target_names=label_encoder.classes_))\n",
    "\n",
    "# Confusion Matrix\n",
    "cm = confusion_matrix(y_test, y_pred)\n",
    "\n",
    "# Plot Confusion Matrix\n",
    "fig, ax = plot_confusion_matrix(conf_mat=cm, figsize=(6, 6), class_names=label_encoder.classes_)\n",
    "plt.title(\"Confusion Matrix\")\n",
    "plt.show()"
   ]
  },
  {
   "cell_type": "code",
   "execution_count": 18,
   "id": "b3dff0b2",
   "metadata": {},
   "outputs": [
    {
     "name": "stdout",
     "output_type": "stream",
     "text": [
      "\u001b[1m6/6\u001b[0m \u001b[32m━━━━━━━━━━━━━━━━━━━━\u001b[0m\u001b[37m\u001b[0m \u001b[1m1s\u001b[0m 95ms/step \n",
      "Test Accuracy: 0.88\n",
      "\n",
      "Classification Report:\n",
      "                     precision    recall  f1-score   support\n",
      "\n",
      "           adhesion       1.00      0.17      0.29        18\n",
      "         flank_wear       0.88      0.96      0.92       115\n",
      "flank_wear+adhesion       0.87      1.00      0.93        34\n",
      "\n",
      "           accuracy                           0.88       167\n",
      "          macro avg       0.92      0.71      0.71       167\n",
      "       weighted avg       0.89      0.88      0.85       167\n",
      "\n"
     ]
    },
    {
     "data": {
      "image/png": "[encoded data removed]",
      "text/plain": [
       "<Figure size 600x600 with 1 Axes>"
      ]
     },
     "metadata": {},
     "output_type": "display_data"
    }
   ],
   "source": [
    "X_test = np.array(tst_df['Images'].tolist()) / 255.0  # Normalize testing images\n",
    "y_test = np.array(tst_df['wear_category_encoded'])\n",
    "y_test = to_categorical(y_test, num_classes=3)  # One-hot encode the labels\n",
    "\n",
    "from sklearn.metrics import accuracy_score, classification_report, confusion_matrix\n",
    "import numpy as np\n",
    "from mlxtend.plotting import plot_confusion_matrix\n",
    "import matplotlib.pyplot as plt\n",
    "\n",
    "# Predict class probabilities on the test set\n",
    "y_pred_prob = model.predict(X_test)\n",
    "\n",
    "# Convert probabilities to class predictions\n",
    "y_pred = np.argmax(y_pred_prob, axis=1)\n",
    "\n",
    "# Ground truth (ensure y_test is in integer form)\n",
    "y_test = np.argmax(y_test, axis=1)  # If y_test is one-hot encoded\n",
    "\n",
    "# Print accuracy\n",
    "accuracy = accuracy_score(y_test, y_pred)\n",
    "print(f\"Test Accuracy: {accuracy:.2f}\")\n",
    "\n",
    "# Print classification report\n",
    "print(\"\\nClassification Report:\")\n",
    "print(classification_report(y_test, y_pred, target_names=label_encoder.classes_))\n",
    "\n",
    "# Confusion Matrix\n",
    "cm = confusion_matrix(y_test, y_pred)\n",
    "\n",
    "# Plot Confusion Matrix\n",
    "fig, ax = plot_confusion_matrix(conf_mat=cm, figsize=(6, 6), class_names=label_encoder.classes_)\n",
    "plt.title(\"Confusion Matrix\")\n",
    "plt.show()"
   ]
  }
 ],
 "metadata": {
  "kernelspec": {
   "display_name": "Python 3 (ipykernel)",
   "language": "python",
   "name": "python3"
  },
  "language_info": {
   "codemirror_mode": {
    "name": "ipython",
    "version": 3
   },
   "file_extension": ".py",
   "mimetype": "text/x-python",
   "name": "python",
   "nbconvert_exporter": "python",
   "pygments_lexer": "ipython3",
   "version": "3.12.3"
  }
 },
 "nbformat": 4,
 "nbformat_minor": 5
}
