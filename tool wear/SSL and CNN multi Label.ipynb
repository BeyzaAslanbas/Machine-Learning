{
 "cells": [
  {
   "cell_type": "markdown",
   "id": "14076b31-1336-42a9-bd74-3cb1fa74102e",
   "metadata": {},
   "source": [
    "# SSL and CNN for Multilabel Classification"
   ]
  },
  {
   "cell_type": "code",
   "execution_count": 17,
   "id": "56b74df2-0a71-4419-8f0b-f351c59a2bb9",
   "metadata": {},
   "outputs": [
    {
     "name": "stdout",
     "output_type": "stream",
     "text": [
      "type\n",
      "flank_wear             1149\n",
      "flank_wear+adhesion     335\n",
      "adhesion                179\n",
      "Name: count, dtype: int64\n",
      "Counts of 'flank_wear' and 'adhesion' labels in the training set:\n",
      "Train Flank Wear count: 1187\n",
      "Train Adhesion count: 411\n",
      "Counts of 'flank_wear' and 'adhesion' labels in the test set:\n",
      "Test Flank Wear count:  149\n",
      "Test Adhesion count:  52\n"
     ]
    }
   ],
   "source": [
    "import pandas as pd\n",
    "import numpy as np\n",
    "import cv2\n",
    "import matplotlib.pyplot as plt\n",
    "from tensorflow.keras import layers, models\n",
    "from tensorflow.keras.preprocessing.image import ImageDataGenerator\n",
    "from tensorflow.keras.optimizers import Adam\n",
    "from tensorflow.keras.applications import ResNet50\n",
    "from tensorflow.keras.callbacks import ModelCheckpoint\n",
    "from sklearn.model_selection import train_test_split\n",
    "# Load CSV file\n",
    "file_path = r\"MATWI\\labels.csv\"\n",
    "df = pd.read_csv(file_path)\n",
    "# Drop rows where 'type' is NaN or empty\n",
    "df = df.dropna(subset=['type', 'wear', 'ImageFile'])  # Remove rows where 'type' is NaN\n",
    "df = df[df['type'].str.strip() != '']  # Remove rows where 'type' is an empty string or whitespace\n",
    "\n",
    "print(df['type'].value_counts())\n",
    "df['flank_wear'] = df['type'].apply(lambda x: 1 if x == 'flank_wear' else (1 if x == \"flank_wear+adhesion\" else 0))\n",
    "df[\"adhesion\"] = df[\"type\"].apply(lambda x: 1 if x == \"adhesion\" else (1 if x == \"flank_wear+adhesion\" else 0))\n",
    "\n",
    "df[\"Images\"] = df[\"ImageFile\"].apply(lambda x: cv2.resize(cv2.imread(x), (224, 224)))  # Load and resize images\n",
    "\n",
    "train_df, test_df = train_test_split(df, test_size = 0.2, random_state = 42, stratify = df['type'])\n",
    "#train_df = df[df['Set'].isin([1, 2, 3, 5, 6, 7, 8, 10, 11, 12])]\n",
    "#test_df = df[df['Set'].isin([4, 9, 13])]\n",
    "# Count occurrences of each type in the training dataset\n",
    "\n",
    "flank_wear_count = train_df['flank_wear'].sum()\n",
    "adhesion_count = train_df['adhesion'].sum()\n",
    "\n",
    "# Print label counts in the training set\n",
    "print(\"Counts of 'flank_wear' and 'adhesion' labels in the training set:\")\n",
    "print(f\"Train Flank Wear count: {flank_wear_count}\")\n",
    "print(f\"Train Adhesion count: {adhesion_count}\")\n",
    "train_df , val_df = train_test_split(train_df, test_size = 0.2, random_state = 42, stratify = train_df['type'])\n",
    "val_df, tst_df = train_test_split(test_df, test_size=0.5, random_state=42, stratify=test_df['type'])\n",
    "print(\"Counts of 'flank_wear' and 'adhesion' labels in the test set:\")\n",
    "print(\"Test Flank Wear count: \" ,tst_df['flank_wear'].sum())\n",
    "print(\"Test Adhesion count: \" ,tst_df['adhesion'].sum())\n",
    "# Prepare images and labels from the DataFrame\n",
    "X_train = np.array(train_df['Images'].tolist()) / 255.0  # Normalize training images\n",
    "y_train = np.array(train_df[[\"flank_wear\", \"adhesion\"]])\n",
    "\n",
    "\n",
    "# For validation data\n",
    "X_val = np.array(val_df['Images'].tolist()) / 255.0  # Normalize validation images\n",
    "y_val = np.array(val_df[[\"flank_wear\", \"adhesion\"]])\n",
    "\n",
    "X_test = np.array(tst_df['Images'].tolist()) / 255.0  # Normalize test images\n",
    "y_test = np.array(tst_df[[\"flank_wear\", \"adhesion\"]])\n"
   ]
  },
  {
   "cell_type": "code",
   "execution_count": 21,
   "id": "cedc001a-7e71-4217-8db7-99cbd214a570",
   "metadata": {},
   "outputs": [
    {
     "name": "stdout",
     "output_type": "stream",
     "text": [
      "Rotated Training Data: (4256, 224, 224, 3), Labels: (4256,)\n",
      "Rotated Validation Data: (664, 224, 224, 3), Labels: (664,)\n"
     ]
    }
   ],
   "source": [
    "def create_rotation_dataset(images, max_samples=None):\n",
    "    if max_samples:\n",
    "        images = images[:max_samples // 4]  # Only take enough images to match max_samples with 4 rotations each\n",
    "\n",
    "    augmented_images = []\n",
    "    labels = []\n",
    "\n",
    "    rotations = [0, 1, 2, 3]  # Corresponds to 0°, 90°, 180°, 270°\n",
    "    for angle, label in zip(rotations, range(len(rotations))):\n",
    "        rotated_set = np.array([np.rot90(img, k=angle) for img in images])  # Rotate all images at once\n",
    "        augmented_images.append(rotated_set)\n",
    "        labels.extend([label] * len(images))  # Extend labels with the same rotation label\n",
    "\n",
    "    # Combine all rotated images and labels\n",
    "    rotated_images = np.concatenate(augmented_images, axis=0)\n",
    "    rotation_labels = np.array(labels)\n",
    "\n",
    "    return rotated_images, rotation_labels\n",
    "\n",
    "# Example Usage\n",
    "rotated_images_train, rotation_labels_train = create_rotation_dataset(X_train, max_samples=5000)  # Use max 5000 samples\n",
    "rotated_images_val, rotation_labels_val = create_rotation_dataset(X_val, max_samples=1000)  # Use max 1000 samples\n",
    "\n",
    "print(f\"Rotated Training Data: {rotated_images_train.shape}, Labels: {rotation_labels_train.shape}\")\n",
    "print(f\"Rotated Validation Data: {rotated_images_val.shape}, Labels: {rotation_labels_val.shape}\")\n"
   ]
  },
  {
   "cell_type": "code",
   "execution_count": 74,
   "id": "767caf35-ca3f-416c-9cb5-daa288e45f5b",
   "metadata": {},
   "outputs": [
    {
     "data": {
      "text/plain": [
       "array([0, 0, 0, 0, 0, 0, 0, 0, 0, 0, 0, 0, 0, 0, 0, 0, 0, 0, 0, 0, 0, 0,\n",
       "       0, 0, 0, 0, 0, 0, 0, 0, 0, 0, 0, 0, 0, 0, 0, 0, 0, 0, 0, 0, 0, 0,\n",
       "       0, 0, 0, 0, 0, 0, 0, 0, 0, 0, 0, 0, 0, 0, 0, 0, 0, 0, 0, 0, 0, 0,\n",
       "       0, 0, 0, 0, 0, 0, 0, 0, 0, 0, 0, 0, 0, 0, 0, 0, 0, 0, 0, 0, 0, 0,\n",
       "       0, 0, 0, 0, 0, 0, 0, 0, 0, 0, 0, 0])"
      ]
     },
     "execution_count": 74,
     "metadata": {},
     "output_type": "execute_result"
    }
   ],
   "source": []
  },
  {
   "cell_type": "code",
   "execution_count": 23,
   "id": "136eaeb6-f1b6-42c6-a690-b9d478c9be7e",
   "metadata": {},
   "outputs": [
    {
     "name": "stdout",
     "output_type": "stream",
     "text": [
      "Pretraining on pretext task (rotation prediction)...\n",
      "Epoch 1/2\n",
      "\u001b[1m133/133\u001b[0m \u001b[32m━━━━━━━━━━━━━━━━━━━━\u001b[0m\u001b[37m\u001b[0m \u001b[1m183s\u001b[0m 1s/step - accuracy: 0.2616 - loss: 1.4829 - val_accuracy: 0.2636 - val_loss: 1.3542\n",
      "Epoch 2/2\n",
      "\u001b[1m133/133\u001b[0m \u001b[32m━━━━━━━━━━━━━━━━━━━━\u001b[0m\u001b[37m\u001b[0m \u001b[1m184s\u001b[0m 1s/step - accuracy: 0.3883 - loss: 1.2935 - val_accuracy: 0.6220 - val_loss: 1.0549\n"
     ]
    },
    {
     "data": {
      "text/plain": [
       "<keras.src.callbacks.history.History at 0x2a7dd0357c0>"
      ]
     },
     "execution_count": 23,
     "metadata": {},
     "output_type": "execute_result"
    }
   ],
   "source": [
    "# Step 2: Define the Pretext Task Model\n",
    "base_model = ResNet50(weights='imagenet', include_top=False, input_shape=(224, 224, 3))\n",
    "base_model.trainable = False  # Freeze ResNet50 layers for pretext training\n",
    "\n",
    "# Add rotation prediction layers\n",
    "ssl_model = models.Sequential([\n",
    "    base_model,\n",
    "    layers.GlobalAveragePooling2D(),\n",
    "    layers.Dense(512, activation='relu'),\n",
    "    layers.Dense(256, activation='relu'),\n",
    "    layers.Dense(4, activation='softmax')  # 4 classes for rotation prediction\n",
    "])\n",
    "\n",
    "ssl_model.compile(optimizer=Adam(learning_rate=0.001),\n",
    "                  loss='sparse_categorical_crossentropy',\n",
    "                  metrics=['accuracy'])\n",
    "\n",
    "# Step 3: Train on Pretext Task\n",
    "print(\"Pretraining on pretext task (rotation prediction)...\")\n",
    "ssl_model.fit(rotated_images_train, rotation_labels_train,\n",
    "              validation_data=(rotated_images_val, rotation_labels_val),\n",
    "              epochs=2, batch_size=32)\n"
   ]
  },
  {
   "cell_type": "code",
   "execution_count": 44,
   "id": "cf27b886-3804-45fa-b4c3-6b3f9d311814",
   "metadata": {},
   "outputs": [
    {
     "name": "stdout",
     "output_type": "stream",
     "text": [
      "\u001b[1m34/34\u001b[0m \u001b[32m━━━━━━━━━━━━━━━━━━━━\u001b[0m\u001b[37m\u001b[0m \u001b[1m41s\u001b[0m 1s/step\n",
      "\u001b[1m6/6\u001b[0m \u001b[32m━━━━━━━━━━━━━━━━━━━━\u001b[0m\u001b[37m\u001b[0m \u001b[1m6s\u001b[0m 941ms/step\n",
      "Train Features Shape: (1064, 7, 7, 2048)\n",
      "Validation Features Shape: (166, 7, 7, 2048)\n"
     ]
    }
   ],
   "source": [
    "# Extract features from the ResNet50 model (base_model)\n",
    "base_model = ResNet50(weights='imagenet', include_top=False, input_shape=(224, 224, 3))\n",
    "base_model.trainable = False  # Freeze the layers of ResNet50\n",
    "\n",
    "# Extract features from the training and validation sets using the base_model\n",
    "train_features = base_model.predict(X_train)\n",
    "val_features = base_model.predict(X_val)\n",
    "\n",
    "print(f\"Train Features Shape: {train_features.shape}\")\n",
    "print(f\"Validation Features Shape: {val_features.shape}\")\n"
   ]
  },
  {
   "cell_type": "code",
   "execution_count": 46,
   "id": "a553b0a8-b6fb-4fcb-bf56-f386f429b385",
   "metadata": {},
   "outputs": [
    {
     "name": "stdout",
     "output_type": "stream",
     "text": [
      "Epoch 1/2\n"
     ]
    },
    {
     "name": "stderr",
     "output_type": "stream",
     "text": [
      "C:\\Users\\beyza\\anaconda3\\Lib\\site-packages\\keras\\src\\layers\\core\\input_layer.py:26: UserWarning: Argument `input_shape` is deprecated. Use `shape` instead.\n",
      "  warnings.warn(\n"
     ]
    },
    {
     "name": "stdout",
     "output_type": "stream",
     "text": [
      "\u001b[1m34/34\u001b[0m \u001b[32m━━━━━━━━━━━━━━━━━━━━\u001b[0m\u001b[37m\u001b[0m \u001b[1m1s\u001b[0m 18ms/step - accuracy: 0.8617 - loss: 0.5575 - val_accuracy: 0.8916 - val_loss: 0.4863\n",
      "Epoch 2/2\n",
      "\u001b[1m34/34\u001b[0m \u001b[32m━━━━━━━━━━━━━━━━━━━━\u001b[0m\u001b[37m\u001b[0m \u001b[1m1s\u001b[0m 14ms/step - accuracy: 0.8788 - loss: 0.5545 - val_accuracy: 0.8916 - val_loss: 0.4830\n"
     ]
    },
    {
     "data": {
      "text/plain": [
       "<keras.src.callbacks.history.History at 0x2a7dd641370>"
      ]
     },
     "execution_count": 46,
     "metadata": {},
     "output_type": "execute_result"
    }
   ],
   "source": [
    "# Step 6: Define CNN Model for Downstream Task (Multi-Label Classification)\n",
    "cnn_model = models.Sequential([\n",
    "    layers.InputLayer(input_shape=train_features.shape[1:]),  # Match feature shape from base_model\n",
    "    layers.GlobalAveragePooling2D(),\n",
    "    layers.Dense(512, activation='relu'),\n",
    "    layers.Dropout(0.5),\n",
    "    layers.Dense(2, activation='sigmoid')  # Output for multi-label classification (flank_wear, adhesion)\n",
    "])\n",
    "\n",
    "# Step 7: Compile CNN Model\n",
    "cnn_model.compile(optimizer=Adam(learning_rate=0.0001),\n",
    "                  loss='binary_crossentropy',  # Multi-label classification loss\n",
    "                  metrics=['accuracy'])\n",
    "\n",
    "# Step 8: Fine-Tune the CNN Model on the Downstream Task\n",
    "cnn_model.fit(train_features, y_train, validation_data=(val_features, y_val),\n",
    "              epochs=2, batch_size=32)\n"
   ]
  },
  {
   "cell_type": "code",
   "execution_count": 48,
   "id": "ac32ec7c-761c-4ac3-8b1a-c481e3235748",
   "metadata": {},
   "outputs": [
    {
     "name": "stdout",
     "output_type": "stream",
     "text": [
      "\u001b[1m6/6\u001b[0m \u001b[32m━━━━━━━━━━━━━━━━━━━━\u001b[0m\u001b[37m\u001b[0m \u001b[1m7s\u001b[0m 1s/step\n",
      "\u001b[1m6/6\u001b[0m \u001b[32m━━━━━━━━━━━━━━━━━━━━\u001b[0m\u001b[37m\u001b[0m \u001b[1m0s\u001b[0m 8ms/step \n"
     ]
    }
   ],
   "source": [
    "# Step 1: Generate predictions for the test set\n",
    "test_features = base_model.predict(X_test)  # Use base_model to extract features for the test set\n",
    "y_pred = cnn_model.predict(test_features)\n",
    "\n",
    "# Since we are doing multi-label classification, we'll threshold predictions at 0.5 for each class\n",
    "y_pred = (y_pred > 0.5).astype(int)\n"
   ]
  },
  {
   "cell_type": "code",
   "execution_count": 66,
   "id": "535d489e-6410-4671-9c3e-3a9b467ff43c",
   "metadata": {},
   "outputs": [
    {
     "data": {
      "image/png": "[encoded data removed]",
      "text/plain": [
       "<Figure size 600x600 with 2 Axes>"
      ]
     },
     "metadata": {},
     "output_type": "display_data"
    }
   ],
   "source": [
    "# Flatten the true and predicted labels\n",
    "y_test_flat = y_test.reshape(-1)  # Flatten the true labels (flank_wear and adhesion)\n",
    "y_pred_flat = y_pred.reshape(-1)  # Flatten the predicted labels (flank_wear and adhesion)\n",
    "from sklearn.metrics import confusion_matrix\n",
    "import seaborn as sns\n",
    "import matplotlib.pyplot as plt\n",
    "\n",
    "# Compute the confusion matrix\n",
    "cm = confusion_matrix(y_test_flat, y_pred_flat)\n",
    "\n",
    "# Plot the confusion matrix\n",
    "plt.figure(figsize=(6, 6))\n",
    "sns.heatmap(cm, annot=True, fmt='d', cmap='Blues', xticklabels=['Pred: No', 'Pred: Yes'], yticklabels=['True: No', 'True: Yes'])\n",
    "plt.title('Confusion Matrix - Combined (Flank Wear + Adhesion)')\n",
    "plt.xlabel('Predicted')\n",
    "plt.ylabel('Actual')\n",
    "plt.tight_layout()\n",
    "plt.show()\n",
    "\n"
   ]
  },
  {
   "cell_type": "code",
   "execution_count": 56,
   "id": "3e25f4aa-3da9-4f70-a533-2a8104819b68",
   "metadata": {},
   "outputs": [
    {
     "name": "stdout",
     "output_type": "stream",
     "text": [
      "      Metric  Flank Wear  Adhesion  Micro Average  Macro Average\n",
      "0  Precision    0.688623  0.892216       0.790419       0.790419\n",
      "1     Recall    0.864662  0.741294       0.790419       0.802978\n",
      "2   F1-Score    0.766667  0.809783       0.790419       0.788225\n"
     ]
    }
   ],
   "source": [
    "import pandas as pd\n",
    "\n",
    "# Create a DataFrame for the metrics\n",
    "metrics_df = pd.DataFrame({\n",
    "    'Metric': ['Precision', 'Recall', 'F1-Score'],\n",
    "    'Flank Wear': [precision[0], recall[0], f1[0]],\n",
    "    'Adhesion': [precision[1], recall[1], f1[1]],\n",
    "    'Micro Average': [precision_micro, recall_micro, f1_micro],\n",
    "    'Macro Average': [precision_macro, recall_macro, f1_macro]\n",
    "})\n",
    "\n",
    "# Print the metrics table\n",
    "print(metrics_df)\n"
   ]
  },
  {
   "cell_type": "code",
   "execution_count": 70,
   "id": "af858af7-bdc9-4afa-b60a-4aea2fd27e21",
   "metadata": {},
   "outputs": [
    {
     "data": {
      "text/plain": [
       "array([1, 0, 1, 0, 1, 0, 1, 0, 1, 0, 1, 0, 1, 0, 1, 0, 1, 0, 1, 0, 1, 0,\n",
       "       1, 0, 1, 0, 1, 0, 1, 0, 1, 0, 1, 0, 1, 0, 1, 0, 1, 0, 1, 0, 1, 0,\n",
       "       1, 0, 1, 0, 1, 0, 1, 0, 1, 0, 1, 0, 1, 0, 1, 0, 1, 0, 1, 0, 1, 0,\n",
       "       1, 0, 1, 0, 1, 0, 1, 0, 1, 0, 1, 0, 1, 0, 1, 0, 1, 0, 1, 0, 1, 0,\n",
       "       1, 0, 1, 0, 1, 0, 1, 0, 1, 0, 1, 0, 1, 0, 1, 0, 1, 0, 1, 0, 1, 0,\n",
       "       1, 0, 1, 0, 1, 0, 1, 0, 1, 0, 1, 0, 1, 0, 1, 0, 1, 0, 1, 0, 1, 0,\n",
       "       1, 0, 1, 0, 1, 0, 1, 0, 1, 0, 1, 0, 1, 0, 1, 0, 1, 0, 1, 0, 1, 0,\n",
       "       1, 0, 1, 0, 1, 0, 1, 0, 1, 0, 1, 0, 1, 0, 1, 0, 1, 0, 1, 0, 1, 0,\n",
       "       1, 0, 1, 0, 1, 0, 1, 0, 1, 0, 1, 0, 1, 0, 1, 0, 1, 0, 1, 0, 1, 0,\n",
       "       1, 0, 1, 0, 1, 0, 1, 0, 1, 0, 1, 0, 1, 0, 1, 0, 1, 0, 1, 0, 1, 0,\n",
       "       1, 0, 1, 0, 1, 0, 1, 0, 1, 0, 1, 0, 1, 0, 1, 0, 1, 0, 1, 0, 1, 0,\n",
       "       1, 0, 1, 0, 1, 0, 1, 0, 1, 0, 1, 0, 1, 0, 1, 0, 1, 0, 1, 0, 1, 0,\n",
       "       1, 0, 1, 0, 1, 0, 1, 0, 1, 0, 1, 0, 1, 0, 1, 0, 1, 0, 1, 0, 1, 0,\n",
       "       1, 0, 1, 0, 1, 0, 1, 0, 1, 0, 1, 0, 1, 0, 1, 0, 1, 0, 1, 0, 1, 0,\n",
       "       1, 0, 1, 0, 1, 0, 1, 0, 1, 0, 1, 0, 1, 0, 1, 0, 1, 0, 1, 0, 1, 0,\n",
       "       1, 0, 1, 0])"
      ]
     },
     "execution_count": 70,
     "metadata": {},
     "output_type": "execute_result"
    }
   ],
   "source": [
    "y_pred_flat"
   ]
  },
  {
   "cell_type": "code",
   "execution_count": null,
   "id": "3c82bf23-5c33-465e-8966-9d56e373e57f",
   "metadata": {},
   "outputs": [],
   "source": []
  }
 ],
 "metadata": {
  "kernelspec": {
   "display_name": "Python 3 (ipykernel)",
   "language": "python",
   "name": "python3"
  },
  "language_info": {
   "codemirror_mode": {
    "name": "ipython",
    "version": 3
   },
   "file_extension": ".py",
   "mimetype": "text/x-python",
   "name": "python",
   "nbconvert_exporter": "python",
   "pygments_lexer": "ipython3",
   "version": "3.12.3"
  }
 },
 "nbformat": 4,
 "nbformat_minor": 5
}
